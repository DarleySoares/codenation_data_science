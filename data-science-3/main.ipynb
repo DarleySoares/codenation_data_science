{
 "cells": [
  {
   "cell_type": "markdown",
   "metadata": {},
   "source": [
    "# Desafio 5\n",
    "\n",
    "Neste desafio, vamos praticar sobre redução de dimensionalidade com PCA e seleção de variáveis com RFE. Utilizaremos o _data set_ [Fifa 2019](https://www.kaggle.com/karangadiya/fifa19), contendo originalmente 89 variáveis de mais de 18 mil jogadores do _game_ FIFA 2019.\n",
    "\n",
    "> Obs.: Por favor, não modifique o nome das funções de resposta."
   ]
  },
  {
   "cell_type": "markdown",
   "metadata": {},
   "source": [
    "## _Setup_ geral"
   ]
  },
  {
   "cell_type": "code",
   "execution_count": 1,
   "metadata": {},
   "outputs": [],
   "source": [
    "from math import sqrt\n",
    "\n",
    "import pandas as pd\n",
    "import matplotlib.pyplot as plt\n",
    "import numpy as np\n",
    "import scipy.stats as sct\n",
    "import seaborn as sns\n",
    "import statsmodels.api as sm\n",
    "import statsmodels.stats as st\n",
    "from sklearn.decomposition import PCA\n",
    "from sklearn.linear_model import LinearRegression\n",
    "from sklearn.feature_selection import RFE\n",
    "\n",
    "from loguru import logger"
   ]
  },
  {
   "cell_type": "code",
   "execution_count": 2,
   "metadata": {
    "scrolled": false
   },
   "outputs": [],
   "source": [
    "fifa = pd.read_csv(\"fifa.csv\")"
   ]
  },
  {
   "cell_type": "code",
   "execution_count": 3,
   "metadata": {},
   "outputs": [],
   "source": [
    "columns_to_drop = [\"Unnamed: 0\", \"ID\", \"Name\", \"Photo\", \"Nationality\", \"Flag\",\n",
    "                   \"Club\", \"Club Logo\", \"Value\", \"Wage\", \"Special\", \"Preferred Foot\",\n",
    "                   \"International Reputation\", \"Weak Foot\", \"Skill Moves\", \"Work Rate\",\n",
    "                   \"Body Type\", \"Real Face\", \"Position\", \"Jersey Number\", \"Joined\",\n",
    "                   \"Loaned From\", \"Contract Valid Until\", \"Height\", \"Weight\", \"LS\",\n",
    "                   \"ST\", \"RS\", \"LW\", \"LF\", \"CF\", \"RF\", \"RW\", \"LAM\", \"CAM\", \"RAM\", \"LM\",\n",
    "                   \"LCM\", \"CM\", \"RCM\", \"RM\", \"LWB\", \"LDM\", \"CDM\", \"RDM\", \"RWB\", \"LB\", \"LCB\",\n",
    "                   \"CB\", \"RCB\", \"RB\", \"Release Clause\"\n",
    "]\n",
    "\n",
    "try:\n",
    "    fifa.drop(columns_to_drop, axis=1, inplace=True)\n",
    "except KeyError:\n",
    "    logger.warning(f\"Columns already dropped\")"
   ]
  },
  {
   "cell_type": "markdown",
   "metadata": {},
   "source": [
    "## Inicia sua análise a partir daqui"
   ]
  },
  {
   "cell_type": "code",
   "execution_count": 4,
   "metadata": {},
   "outputs": [
    {
     "output_type": "execute_result",
     "data": {
      "text/plain": "   Age  Overall  Potential  Crossing  Finishing  HeadingAccuracy  \\\n0   31       94         94      84.0       95.0             70.0   \n1   33       94         94      84.0       94.0             89.0   \n2   26       92         93      79.0       87.0             62.0   \n3   27       91         93      17.0       13.0             21.0   \n4   27       91         92      93.0       82.0             55.0   \n\n   ShortPassing  Volleys  Dribbling  Curve  ...  Penalties  Composure  \\\n0          90.0     86.0       97.0   93.0  ...       75.0       96.0   \n1          81.0     87.0       88.0   81.0  ...       85.0       95.0   \n2          84.0     84.0       96.0   88.0  ...       81.0       94.0   \n3          50.0     13.0       18.0   21.0  ...       40.0       68.0   \n4          92.0     82.0       86.0   85.0  ...       79.0       88.0   \n\n   Marking  StandingTackle  SlidingTackle  GKDiving  GKHandling  GKKicking  \\\n0     33.0            28.0           26.0       6.0        11.0       15.0   \n1     28.0            31.0           23.0       7.0        11.0       15.0   \n2     27.0            24.0           33.0       9.0         9.0       15.0   \n3     15.0            21.0           13.0      90.0        85.0       87.0   \n4     68.0            58.0           51.0      15.0        13.0        5.0   \n\n   GKPositioning  GKReflexes  \n0           14.0         8.0  \n1           14.0        11.0  \n2           15.0        11.0  \n3           88.0        94.0  \n4           10.0        13.0  \n\n[5 rows x 37 columns]",
      "text/html": "<div>\n<style scoped>\n    .dataframe tbody tr th:only-of-type {\n        vertical-align: middle;\n    }\n\n    .dataframe tbody tr th {\n        vertical-align: top;\n    }\n\n    .dataframe thead th {\n        text-align: right;\n    }\n</style>\n<table border=\"1\" class=\"dataframe\">\n  <thead>\n    <tr style=\"text-align: right;\">\n      <th></th>\n      <th>Age</th>\n      <th>Overall</th>\n      <th>Potential</th>\n      <th>Crossing</th>\n      <th>Finishing</th>\n      <th>HeadingAccuracy</th>\n      <th>ShortPassing</th>\n      <th>Volleys</th>\n      <th>Dribbling</th>\n      <th>Curve</th>\n      <th>...</th>\n      <th>Penalties</th>\n      <th>Composure</th>\n      <th>Marking</th>\n      <th>StandingTackle</th>\n      <th>SlidingTackle</th>\n      <th>GKDiving</th>\n      <th>GKHandling</th>\n      <th>GKKicking</th>\n      <th>GKPositioning</th>\n      <th>GKReflexes</th>\n    </tr>\n  </thead>\n  <tbody>\n    <tr>\n      <th>0</th>\n      <td>31</td>\n      <td>94</td>\n      <td>94</td>\n      <td>84.0</td>\n      <td>95.0</td>\n      <td>70.0</td>\n      <td>90.0</td>\n      <td>86.0</td>\n      <td>97.0</td>\n      <td>93.0</td>\n      <td>...</td>\n      <td>75.0</td>\n      <td>96.0</td>\n      <td>33.0</td>\n      <td>28.0</td>\n      <td>26.0</td>\n      <td>6.0</td>\n      <td>11.0</td>\n      <td>15.0</td>\n      <td>14.0</td>\n      <td>8.0</td>\n    </tr>\n    <tr>\n      <th>1</th>\n      <td>33</td>\n      <td>94</td>\n      <td>94</td>\n      <td>84.0</td>\n      <td>94.0</td>\n      <td>89.0</td>\n      <td>81.0</td>\n      <td>87.0</td>\n      <td>88.0</td>\n      <td>81.0</td>\n      <td>...</td>\n      <td>85.0</td>\n      <td>95.0</td>\n      <td>28.0</td>\n      <td>31.0</td>\n      <td>23.0</td>\n      <td>7.0</td>\n      <td>11.0</td>\n      <td>15.0</td>\n      <td>14.0</td>\n      <td>11.0</td>\n    </tr>\n    <tr>\n      <th>2</th>\n      <td>26</td>\n      <td>92</td>\n      <td>93</td>\n      <td>79.0</td>\n      <td>87.0</td>\n      <td>62.0</td>\n      <td>84.0</td>\n      <td>84.0</td>\n      <td>96.0</td>\n      <td>88.0</td>\n      <td>...</td>\n      <td>81.0</td>\n      <td>94.0</td>\n      <td>27.0</td>\n      <td>24.0</td>\n      <td>33.0</td>\n      <td>9.0</td>\n      <td>9.0</td>\n      <td>15.0</td>\n      <td>15.0</td>\n      <td>11.0</td>\n    </tr>\n    <tr>\n      <th>3</th>\n      <td>27</td>\n      <td>91</td>\n      <td>93</td>\n      <td>17.0</td>\n      <td>13.0</td>\n      <td>21.0</td>\n      <td>50.0</td>\n      <td>13.0</td>\n      <td>18.0</td>\n      <td>21.0</td>\n      <td>...</td>\n      <td>40.0</td>\n      <td>68.0</td>\n      <td>15.0</td>\n      <td>21.0</td>\n      <td>13.0</td>\n      <td>90.0</td>\n      <td>85.0</td>\n      <td>87.0</td>\n      <td>88.0</td>\n      <td>94.0</td>\n    </tr>\n    <tr>\n      <th>4</th>\n      <td>27</td>\n      <td>91</td>\n      <td>92</td>\n      <td>93.0</td>\n      <td>82.0</td>\n      <td>55.0</td>\n      <td>92.0</td>\n      <td>82.0</td>\n      <td>86.0</td>\n      <td>85.0</td>\n      <td>...</td>\n      <td>79.0</td>\n      <td>88.0</td>\n      <td>68.0</td>\n      <td>58.0</td>\n      <td>51.0</td>\n      <td>15.0</td>\n      <td>13.0</td>\n      <td>5.0</td>\n      <td>10.0</td>\n      <td>13.0</td>\n    </tr>\n  </tbody>\n</table>\n<p>5 rows × 37 columns</p>\n</div>"
     },
     "metadata": {},
     "execution_count": 4
    }
   ],
   "source": [
    "# Verifica as primeiras linhas do conjunto de dados\n",
    "fifa.head()"
   ]
  },
  {
   "cell_type": "code",
   "execution_count": 5,
   "metadata": {},
   "outputs": [
    {
     "output_type": "execute_result",
     "data": {
      "text/plain": "                   count       mean        std   min   25%   50%   75%   max\nAge              18207.0  25.122206   4.669943  16.0  21.0  25.0  28.0  45.0\nOverall          18207.0  66.238699   6.908930  46.0  62.0  66.0  71.0  94.0\nPotential        18207.0  71.307299   6.136496  48.0  67.0  71.0  75.0  95.0\nCrossing         18159.0  49.734181  18.364524   5.0  38.0  54.0  64.0  93.0\nFinishing        18159.0  45.550911  19.525820   2.0  30.0  49.0  62.0  95.0\nHeadingAccuracy  18159.0  52.298144  17.379909   4.0  44.0  56.0  64.0  94.0\nShortPassing     18159.0  58.686712  14.699495   7.0  54.0  62.0  68.0  93.0\nVolleys          18159.0  42.909026  17.694408   4.0  30.0  44.0  57.0  90.0\nDribbling        18159.0  55.371001  18.910371   4.0  49.0  61.0  68.0  97.0\nCurve            18159.0  47.170824  18.395264   6.0  34.0  48.0  62.0  94.0\nFKAccuracy       18159.0  42.863153  17.478763   3.0  31.0  41.0  57.0  94.0\nLongPassing      18159.0  52.711933  15.327870   9.0  43.0  56.0  64.0  93.0\nBallControl      18159.0  58.369459  16.686595   5.0  54.0  63.0  69.0  96.0\nAcceleration     18159.0  64.614076  14.927780  12.0  57.0  67.0  75.0  97.0\nSprintSpeed      18159.0  64.726967  14.649953  12.0  57.0  67.0  75.0  96.0\nAgility          18159.0  63.503607  14.766049  14.0  55.0  66.0  74.0  96.0\nReactions        18159.0  61.836610   9.010464  21.0  56.0  62.0  68.0  96.0\nBalance          18159.0  63.966573  14.136166  16.0  56.0  66.0  74.0  96.0\nShotPower        18159.0  55.460047  17.237958   2.0  45.0  59.0  68.0  95.0\nJumping          18159.0  65.089432  11.820044  15.0  58.0  66.0  73.0  95.0\nStamina          18159.0  63.219946  15.894741  12.0  56.0  66.0  74.0  96.0\nStrength         18159.0  65.311967  12.557000  17.0  58.0  67.0  74.0  97.0\nLongShots        18159.0  47.109973  19.260524   3.0  33.0  51.0  62.0  94.0\nAggression       18159.0  55.868991  17.367967  11.0  44.0  59.0  69.0  95.0\nInterceptions    18159.0  46.698276  20.696909   3.0  26.0  52.0  64.0  92.0\nPositioning      18159.0  49.958478  19.529036   2.0  38.0  55.0  64.0  95.0\nVision           18159.0  53.400903  14.146881  10.0  44.0  55.0  64.0  94.0\nPenalties        18159.0  48.548598  15.704053   5.0  39.0  49.0  60.0  92.0\nComposure        18159.0  58.648274  11.436133   3.0  51.0  60.0  67.0  96.0\nMarking          18159.0  47.281623  19.904397   3.0  30.0  53.0  64.0  94.0\nStandingTackle   18159.0  47.697836  21.664004   2.0  27.0  55.0  66.0  93.0\nSlidingTackle    18159.0  45.661435  21.289135   3.0  24.0  52.0  64.0  91.0\nGKDiving         18159.0  16.616223  17.695349   1.0   8.0  11.0  14.0  90.0\nGKHandling       18159.0  16.391596  16.906900   1.0   8.0  11.0  14.0  92.0\nGKKicking        18159.0  16.232061  16.502864   1.0   8.0  11.0  14.0  91.0\nGKPositioning    18159.0  16.388898  17.034669   1.0   8.0  11.0  14.0  90.0\nGKReflexes       18159.0  16.710887  17.955119   1.0   8.0  11.0  14.0  94.0",
      "text/html": "<div>\n<style scoped>\n    .dataframe tbody tr th:only-of-type {\n        vertical-align: middle;\n    }\n\n    .dataframe tbody tr th {\n        vertical-align: top;\n    }\n\n    .dataframe thead th {\n        text-align: right;\n    }\n</style>\n<table border=\"1\" class=\"dataframe\">\n  <thead>\n    <tr style=\"text-align: right;\">\n      <th></th>\n      <th>count</th>\n      <th>mean</th>\n      <th>std</th>\n      <th>min</th>\n      <th>25%</th>\n      <th>50%</th>\n      <th>75%</th>\n      <th>max</th>\n    </tr>\n  </thead>\n  <tbody>\n    <tr>\n      <th>Age</th>\n      <td>18207.0</td>\n      <td>25.122206</td>\n      <td>4.669943</td>\n      <td>16.0</td>\n      <td>21.0</td>\n      <td>25.0</td>\n      <td>28.0</td>\n      <td>45.0</td>\n    </tr>\n    <tr>\n      <th>Overall</th>\n      <td>18207.0</td>\n      <td>66.238699</td>\n      <td>6.908930</td>\n      <td>46.0</td>\n      <td>62.0</td>\n      <td>66.0</td>\n      <td>71.0</td>\n      <td>94.0</td>\n    </tr>\n    <tr>\n      <th>Potential</th>\n      <td>18207.0</td>\n      <td>71.307299</td>\n      <td>6.136496</td>\n      <td>48.0</td>\n      <td>67.0</td>\n      <td>71.0</td>\n      <td>75.0</td>\n      <td>95.0</td>\n    </tr>\n    <tr>\n      <th>Crossing</th>\n      <td>18159.0</td>\n      <td>49.734181</td>\n      <td>18.364524</td>\n      <td>5.0</td>\n      <td>38.0</td>\n      <td>54.0</td>\n      <td>64.0</td>\n      <td>93.0</td>\n    </tr>\n    <tr>\n      <th>Finishing</th>\n      <td>18159.0</td>\n      <td>45.550911</td>\n      <td>19.525820</td>\n      <td>2.0</td>\n      <td>30.0</td>\n      <td>49.0</td>\n      <td>62.0</td>\n      <td>95.0</td>\n    </tr>\n    <tr>\n      <th>HeadingAccuracy</th>\n      <td>18159.0</td>\n      <td>52.298144</td>\n      <td>17.379909</td>\n      <td>4.0</td>\n      <td>44.0</td>\n      <td>56.0</td>\n      <td>64.0</td>\n      <td>94.0</td>\n    </tr>\n    <tr>\n      <th>ShortPassing</th>\n      <td>18159.0</td>\n      <td>58.686712</td>\n      <td>14.699495</td>\n      <td>7.0</td>\n      <td>54.0</td>\n      <td>62.0</td>\n      <td>68.0</td>\n      <td>93.0</td>\n    </tr>\n    <tr>\n      <th>Volleys</th>\n      <td>18159.0</td>\n      <td>42.909026</td>\n      <td>17.694408</td>\n      <td>4.0</td>\n      <td>30.0</td>\n      <td>44.0</td>\n      <td>57.0</td>\n      <td>90.0</td>\n    </tr>\n    <tr>\n      <th>Dribbling</th>\n      <td>18159.0</td>\n      <td>55.371001</td>\n      <td>18.910371</td>\n      <td>4.0</td>\n      <td>49.0</td>\n      <td>61.0</td>\n      <td>68.0</td>\n      <td>97.0</td>\n    </tr>\n    <tr>\n      <th>Curve</th>\n      <td>18159.0</td>\n      <td>47.170824</td>\n      <td>18.395264</td>\n      <td>6.0</td>\n      <td>34.0</td>\n      <td>48.0</td>\n      <td>62.0</td>\n      <td>94.0</td>\n    </tr>\n    <tr>\n      <th>FKAccuracy</th>\n      <td>18159.0</td>\n      <td>42.863153</td>\n      <td>17.478763</td>\n      <td>3.0</td>\n      <td>31.0</td>\n      <td>41.0</td>\n      <td>57.0</td>\n      <td>94.0</td>\n    </tr>\n    <tr>\n      <th>LongPassing</th>\n      <td>18159.0</td>\n      <td>52.711933</td>\n      <td>15.327870</td>\n      <td>9.0</td>\n      <td>43.0</td>\n      <td>56.0</td>\n      <td>64.0</td>\n      <td>93.0</td>\n    </tr>\n    <tr>\n      <th>BallControl</th>\n      <td>18159.0</td>\n      <td>58.369459</td>\n      <td>16.686595</td>\n      <td>5.0</td>\n      <td>54.0</td>\n      <td>63.0</td>\n      <td>69.0</td>\n      <td>96.0</td>\n    </tr>\n    <tr>\n      <th>Acceleration</th>\n      <td>18159.0</td>\n      <td>64.614076</td>\n      <td>14.927780</td>\n      <td>12.0</td>\n      <td>57.0</td>\n      <td>67.0</td>\n      <td>75.0</td>\n      <td>97.0</td>\n    </tr>\n    <tr>\n      <th>SprintSpeed</th>\n      <td>18159.0</td>\n      <td>64.726967</td>\n      <td>14.649953</td>\n      <td>12.0</td>\n      <td>57.0</td>\n      <td>67.0</td>\n      <td>75.0</td>\n      <td>96.0</td>\n    </tr>\n    <tr>\n      <th>Agility</th>\n      <td>18159.0</td>\n      <td>63.503607</td>\n      <td>14.766049</td>\n      <td>14.0</td>\n      <td>55.0</td>\n      <td>66.0</td>\n      <td>74.0</td>\n      <td>96.0</td>\n    </tr>\n    <tr>\n      <th>Reactions</th>\n      <td>18159.0</td>\n      <td>61.836610</td>\n      <td>9.010464</td>\n      <td>21.0</td>\n      <td>56.0</td>\n      <td>62.0</td>\n      <td>68.0</td>\n      <td>96.0</td>\n    </tr>\n    <tr>\n      <th>Balance</th>\n      <td>18159.0</td>\n      <td>63.966573</td>\n      <td>14.136166</td>\n      <td>16.0</td>\n      <td>56.0</td>\n      <td>66.0</td>\n      <td>74.0</td>\n      <td>96.0</td>\n    </tr>\n    <tr>\n      <th>ShotPower</th>\n      <td>18159.0</td>\n      <td>55.460047</td>\n      <td>17.237958</td>\n      <td>2.0</td>\n      <td>45.0</td>\n      <td>59.0</td>\n      <td>68.0</td>\n      <td>95.0</td>\n    </tr>\n    <tr>\n      <th>Jumping</th>\n      <td>18159.0</td>\n      <td>65.089432</td>\n      <td>11.820044</td>\n      <td>15.0</td>\n      <td>58.0</td>\n      <td>66.0</td>\n      <td>73.0</td>\n      <td>95.0</td>\n    </tr>\n    <tr>\n      <th>Stamina</th>\n      <td>18159.0</td>\n      <td>63.219946</td>\n      <td>15.894741</td>\n      <td>12.0</td>\n      <td>56.0</td>\n      <td>66.0</td>\n      <td>74.0</td>\n      <td>96.0</td>\n    </tr>\n    <tr>\n      <th>Strength</th>\n      <td>18159.0</td>\n      <td>65.311967</td>\n      <td>12.557000</td>\n      <td>17.0</td>\n      <td>58.0</td>\n      <td>67.0</td>\n      <td>74.0</td>\n      <td>97.0</td>\n    </tr>\n    <tr>\n      <th>LongShots</th>\n      <td>18159.0</td>\n      <td>47.109973</td>\n      <td>19.260524</td>\n      <td>3.0</td>\n      <td>33.0</td>\n      <td>51.0</td>\n      <td>62.0</td>\n      <td>94.0</td>\n    </tr>\n    <tr>\n      <th>Aggression</th>\n      <td>18159.0</td>\n      <td>55.868991</td>\n      <td>17.367967</td>\n      <td>11.0</td>\n      <td>44.0</td>\n      <td>59.0</td>\n      <td>69.0</td>\n      <td>95.0</td>\n    </tr>\n    <tr>\n      <th>Interceptions</th>\n      <td>18159.0</td>\n      <td>46.698276</td>\n      <td>20.696909</td>\n      <td>3.0</td>\n      <td>26.0</td>\n      <td>52.0</td>\n      <td>64.0</td>\n      <td>92.0</td>\n    </tr>\n    <tr>\n      <th>Positioning</th>\n      <td>18159.0</td>\n      <td>49.958478</td>\n      <td>19.529036</td>\n      <td>2.0</td>\n      <td>38.0</td>\n      <td>55.0</td>\n      <td>64.0</td>\n      <td>95.0</td>\n    </tr>\n    <tr>\n      <th>Vision</th>\n      <td>18159.0</td>\n      <td>53.400903</td>\n      <td>14.146881</td>\n      <td>10.0</td>\n      <td>44.0</td>\n      <td>55.0</td>\n      <td>64.0</td>\n      <td>94.0</td>\n    </tr>\n    <tr>\n      <th>Penalties</th>\n      <td>18159.0</td>\n      <td>48.548598</td>\n      <td>15.704053</td>\n      <td>5.0</td>\n      <td>39.0</td>\n      <td>49.0</td>\n      <td>60.0</td>\n      <td>92.0</td>\n    </tr>\n    <tr>\n      <th>Composure</th>\n      <td>18159.0</td>\n      <td>58.648274</td>\n      <td>11.436133</td>\n      <td>3.0</td>\n      <td>51.0</td>\n      <td>60.0</td>\n      <td>67.0</td>\n      <td>96.0</td>\n    </tr>\n    <tr>\n      <th>Marking</th>\n      <td>18159.0</td>\n      <td>47.281623</td>\n      <td>19.904397</td>\n      <td>3.0</td>\n      <td>30.0</td>\n      <td>53.0</td>\n      <td>64.0</td>\n      <td>94.0</td>\n    </tr>\n    <tr>\n      <th>StandingTackle</th>\n      <td>18159.0</td>\n      <td>47.697836</td>\n      <td>21.664004</td>\n      <td>2.0</td>\n      <td>27.0</td>\n      <td>55.0</td>\n      <td>66.0</td>\n      <td>93.0</td>\n    </tr>\n    <tr>\n      <th>SlidingTackle</th>\n      <td>18159.0</td>\n      <td>45.661435</td>\n      <td>21.289135</td>\n      <td>3.0</td>\n      <td>24.0</td>\n      <td>52.0</td>\n      <td>64.0</td>\n      <td>91.0</td>\n    </tr>\n    <tr>\n      <th>GKDiving</th>\n      <td>18159.0</td>\n      <td>16.616223</td>\n      <td>17.695349</td>\n      <td>1.0</td>\n      <td>8.0</td>\n      <td>11.0</td>\n      <td>14.0</td>\n      <td>90.0</td>\n    </tr>\n    <tr>\n      <th>GKHandling</th>\n      <td>18159.0</td>\n      <td>16.391596</td>\n      <td>16.906900</td>\n      <td>1.0</td>\n      <td>8.0</td>\n      <td>11.0</td>\n      <td>14.0</td>\n      <td>92.0</td>\n    </tr>\n    <tr>\n      <th>GKKicking</th>\n      <td>18159.0</td>\n      <td>16.232061</td>\n      <td>16.502864</td>\n      <td>1.0</td>\n      <td>8.0</td>\n      <td>11.0</td>\n      <td>14.0</td>\n      <td>91.0</td>\n    </tr>\n    <tr>\n      <th>GKPositioning</th>\n      <td>18159.0</td>\n      <td>16.388898</td>\n      <td>17.034669</td>\n      <td>1.0</td>\n      <td>8.0</td>\n      <td>11.0</td>\n      <td>14.0</td>\n      <td>90.0</td>\n    </tr>\n    <tr>\n      <th>GKReflexes</th>\n      <td>18159.0</td>\n      <td>16.710887</td>\n      <td>17.955119</td>\n      <td>1.0</td>\n      <td>8.0</td>\n      <td>11.0</td>\n      <td>14.0</td>\n      <td>94.0</td>\n    </tr>\n  </tbody>\n</table>\n</div>"
     },
     "metadata": {},
     "execution_count": 5
    }
   ],
   "source": [
    "# Faz uma descrição estatística sobre o conjunto de dados\n",
    "fifa.describe().transpose()"
   ]
  },
  {
   "cell_type": "code",
   "execution_count": 6,
   "metadata": {},
   "outputs": [],
   "source": [
    "# Elimina todos os dados nulos\n",
    "df = fifa.dropna()"
   ]
  },
  {
   "cell_type": "markdown",
   "metadata": {},
   "source": [
    "## Questão 1\n",
    "\n",
    "Qual fração da variância consegue ser explicada pelo primeiro componente principal de `fifa`? Responda como um único float (entre 0 e 1) arredondado para três casas decimais."
   ]
  },
  {
   "cell_type": "code",
   "execution_count": 7,
   "metadata": {},
   "outputs": [
    {
     "output_type": "execute_result",
     "data": {
      "text/plain": "   Age  Overall  Potential  Crossing  Finishing  HeadingAccuracy  \\\n0   31       94         94      84.0       95.0             70.0   \n1   33       94         94      84.0       94.0             89.0   \n2   26       92         93      79.0       87.0             62.0   \n3   27       91         93      17.0       13.0             21.0   \n4   27       91         92      93.0       82.0             55.0   \n\n   ShortPassing  Volleys  Dribbling  Curve  ...  Penalties  Composure  \\\n0          90.0     86.0       97.0   93.0  ...       75.0       96.0   \n1          81.0     87.0       88.0   81.0  ...       85.0       95.0   \n2          84.0     84.0       96.0   88.0  ...       81.0       94.0   \n3          50.0     13.0       18.0   21.0  ...       40.0       68.0   \n4          92.0     82.0       86.0   85.0  ...       79.0       88.0   \n\n   Marking  StandingTackle  SlidingTackle  GKDiving  GKHandling  GKKicking  \\\n0     33.0            28.0           26.0       6.0        11.0       15.0   \n1     28.0            31.0           23.0       7.0        11.0       15.0   \n2     27.0            24.0           33.0       9.0         9.0       15.0   \n3     15.0            21.0           13.0      90.0        85.0       87.0   \n4     68.0            58.0           51.0      15.0        13.0        5.0   \n\n   GKPositioning  GKReflexes  \n0           14.0         8.0  \n1           14.0        11.0  \n2           15.0        11.0  \n3           88.0        94.0  \n4           10.0        13.0  \n\n[5 rows x 37 columns]",
      "text/html": "<div>\n<style scoped>\n    .dataframe tbody tr th:only-of-type {\n        vertical-align: middle;\n    }\n\n    .dataframe tbody tr th {\n        vertical-align: top;\n    }\n\n    .dataframe thead th {\n        text-align: right;\n    }\n</style>\n<table border=\"1\" class=\"dataframe\">\n  <thead>\n    <tr style=\"text-align: right;\">\n      <th></th>\n      <th>Age</th>\n      <th>Overall</th>\n      <th>Potential</th>\n      <th>Crossing</th>\n      <th>Finishing</th>\n      <th>HeadingAccuracy</th>\n      <th>ShortPassing</th>\n      <th>Volleys</th>\n      <th>Dribbling</th>\n      <th>Curve</th>\n      <th>...</th>\n      <th>Penalties</th>\n      <th>Composure</th>\n      <th>Marking</th>\n      <th>StandingTackle</th>\n      <th>SlidingTackle</th>\n      <th>GKDiving</th>\n      <th>GKHandling</th>\n      <th>GKKicking</th>\n      <th>GKPositioning</th>\n      <th>GKReflexes</th>\n    </tr>\n  </thead>\n  <tbody>\n    <tr>\n      <th>0</th>\n      <td>31</td>\n      <td>94</td>\n      <td>94</td>\n      <td>84.0</td>\n      <td>95.0</td>\n      <td>70.0</td>\n      <td>90.0</td>\n      <td>86.0</td>\n      <td>97.0</td>\n      <td>93.0</td>\n      <td>...</td>\n      <td>75.0</td>\n      <td>96.0</td>\n      <td>33.0</td>\n      <td>28.0</td>\n      <td>26.0</td>\n      <td>6.0</td>\n      <td>11.0</td>\n      <td>15.0</td>\n      <td>14.0</td>\n      <td>8.0</td>\n    </tr>\n    <tr>\n      <th>1</th>\n      <td>33</td>\n      <td>94</td>\n      <td>94</td>\n      <td>84.0</td>\n      <td>94.0</td>\n      <td>89.0</td>\n      <td>81.0</td>\n      <td>87.0</td>\n      <td>88.0</td>\n      <td>81.0</td>\n      <td>...</td>\n      <td>85.0</td>\n      <td>95.0</td>\n      <td>28.0</td>\n      <td>31.0</td>\n      <td>23.0</td>\n      <td>7.0</td>\n      <td>11.0</td>\n      <td>15.0</td>\n      <td>14.0</td>\n      <td>11.0</td>\n    </tr>\n    <tr>\n      <th>2</th>\n      <td>26</td>\n      <td>92</td>\n      <td>93</td>\n      <td>79.0</td>\n      <td>87.0</td>\n      <td>62.0</td>\n      <td>84.0</td>\n      <td>84.0</td>\n      <td>96.0</td>\n      <td>88.0</td>\n      <td>...</td>\n      <td>81.0</td>\n      <td>94.0</td>\n      <td>27.0</td>\n      <td>24.0</td>\n      <td>33.0</td>\n      <td>9.0</td>\n      <td>9.0</td>\n      <td>15.0</td>\n      <td>15.0</td>\n      <td>11.0</td>\n    </tr>\n    <tr>\n      <th>3</th>\n      <td>27</td>\n      <td>91</td>\n      <td>93</td>\n      <td>17.0</td>\n      <td>13.0</td>\n      <td>21.0</td>\n      <td>50.0</td>\n      <td>13.0</td>\n      <td>18.0</td>\n      <td>21.0</td>\n      <td>...</td>\n      <td>40.0</td>\n      <td>68.0</td>\n      <td>15.0</td>\n      <td>21.0</td>\n      <td>13.0</td>\n      <td>90.0</td>\n      <td>85.0</td>\n      <td>87.0</td>\n      <td>88.0</td>\n      <td>94.0</td>\n    </tr>\n    <tr>\n      <th>4</th>\n      <td>27</td>\n      <td>91</td>\n      <td>92</td>\n      <td>93.0</td>\n      <td>82.0</td>\n      <td>55.0</td>\n      <td>92.0</td>\n      <td>82.0</td>\n      <td>86.0</td>\n      <td>85.0</td>\n      <td>...</td>\n      <td>79.0</td>\n      <td>88.0</td>\n      <td>68.0</td>\n      <td>58.0</td>\n      <td>51.0</td>\n      <td>15.0</td>\n      <td>13.0</td>\n      <td>5.0</td>\n      <td>10.0</td>\n      <td>13.0</td>\n    </tr>\n  </tbody>\n</table>\n<p>5 rows × 37 columns</p>\n</div>"
     },
     "metadata": {},
     "execution_count": 7
    }
   ],
   "source": [
    "fifa.head()"
   ]
  },
  {
   "cell_type": "code",
   "execution_count": 8,
   "metadata": {
    "tags": []
   },
   "outputs": [],
   "source": [
    "def q1():\n",
    "    pca = PCA(n_components= 1)\n",
    "    pca.fit(df)\n",
    "    return float(pca.explained_variance_ratio_.round(3).round(3))"
   ]
  },
  {
   "cell_type": "markdown",
   "metadata": {},
   "source": [
    "## Questão 2\n",
    "\n",
    "Quantos componentes principais precisamos para explicar 95% da variância total? Responda como un único escalar inteiro."
   ]
  },
  {
   "cell_type": "code",
   "execution_count": 9,
   "metadata": {},
   "outputs": [],
   "source": [
    "def q2():\n",
    "    pca_095 = PCA(n_components= 0.95)\n",
    "    X_reduced = pca_095.fit_transform(df)\n",
    "    return X_reduced.shape[1]"
   ]
  },
  {
   "cell_type": "markdown",
   "metadata": {},
   "source": [
    "## Questão 3\n",
    "\n",
    "Qual são as coordenadas (primeiro e segundo componentes principais) do ponto `x` abaixo? O vetor abaixo já está centralizado. Cuidado para __não__ centralizar o vetor novamente (por exemplo, invocando `PCA.transform()` nele). Responda como uma tupla de float arredondados para três casas decimais."
   ]
  },
  {
   "cell_type": "code",
   "execution_count": 10,
   "metadata": {},
   "outputs": [],
   "source": [
    "x = [0.87747123,  -1.24990363,  -1.3191255, -36.7341814,\n",
    "     -35.55091139, -37.29814417, -28.68671182, -30.90902583,\n",
    "     -42.37100061, -32.17082438, -28.86315326, -22.71193348,\n",
    "     -38.36945867, -20.61407566, -22.72696734, -25.50360703,\n",
    "     2.16339005, -27.96657305, -33.46004736,  -5.08943224,\n",
    "     -30.21994603,   3.68803348, -36.10997302, -30.86899058,\n",
    "     -22.69827634, -37.95847789, -22.40090313, -30.54859849,\n",
    "     -26.64827358, -19.28162344, -34.69783578, -34.6614351,\n",
    "     48.38377664,  47.60840355,  45.76793876,  44.61110193,\n",
    "     49.28911284\n",
    "]"
   ]
  },
  {
   "cell_type": "code",
   "execution_count": 11,
   "metadata": {},
   "outputs": [],
   "source": [
    "def q3():\n",
    "    pca = PCA(n_components= 2)\n",
    "    pca.fit(df)\n",
    "    return tuple(pca.components_.dot(x).round(3))"
   ]
  },
  {
   "cell_type": "markdown",
   "metadata": {},
   "source": [
    "## Questão 4\n",
    "\n",
    "Realiza RFE com estimador de regressão linear para selecionar cinco variáveis, eliminando uma a uma. Quais são as variáveis selecionadas? Responda como uma lista de nomes de variáveis."
   ]
  },
  {
   "cell_type": "code",
   "execution_count": 12,
   "metadata": {},
   "outputs": [],
   "source": [
    "def q4():\n",
    "    model = LinearRegression()\n",
    "    rfe = RFE(model, 5)\n",
    "    X = df.drop(columns = 'Overall')\n",
    "    y = df['Overall']\n",
    "    rfe.fit(X,y)\n",
    "    return list(X.columns[rfe.support_])"
   ]
  }
 ],
 "metadata": {
  "kernelspec": {
   "display_name": "Python 3",
   "language": "python",
   "name": "python3"
  },
  "language_info": {
   "codemirror_mode": {
    "name": "ipython",
    "version": 3
   },
   "file_extension": ".py",
   "mimetype": "text/x-python",
   "name": "python",
   "nbconvert_exporter": "python",
   "pygments_lexer": "ipython3",
   "version": "3.7.3"
  }
 },
 "nbformat": 4,
 "nbformat_minor": 2
}