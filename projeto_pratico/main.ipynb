{
 "cells": [
  {
   "cell_type": "markdown",
   "metadata": {},
   "source": [
    "![alt text](https://raw.githubusercontent.com/DarleySoares/codenation_data_science/master/projeto_pratico/images/header.png)"
   ]
  },
  {
   "cell_type": "code",
   "execution_count": 3,
   "metadata": {},
   "outputs": [],
   "source": [
    "import warnings\n",
    "warnings.filterwarnings('ignore')\n",
    "\n",
    "import pandas as pd \n",
    "import numpy as np\n",
    "from scipy import stats\n",
    "import matplotlib.pyplot as plt\n",
    "import seaborn as sns\n",
    "import altair as alt\n",
    "\n",
    "palette = ['#F63366', '#FCE92D', '#B0A320', '#2D9AFC', '#206CB0']\n",
    "sns.set_palette(palette)\n"
   ]
  },
  {
   "cell_type": "markdown",
   "metadata": {},
   "source": [
    "# Coleta de dados"
   ]
  },
  {
   "cell_type": "code",
   "execution_count": 4,
   "metadata": {},
   "outputs": [],
   "source": [
    "# leitura dos dados dos mercados\n",
    "df_market = pd.read_csv('data/estaticos_market.csv')"
   ]
  },
  {
   "cell_type": "markdown",
   "metadata": {},
   "source": [
    "# Análise Exploratória"
   ]
  },
  {
   "cell_type": "code",
   "execution_count": 5,
   "metadata": {
    "tags": []
   },
   "outputs": [],
   "source": [
    "# verificando quantidade de dados vazios por coluna\n",
    "columns =list(df_market.columns)\n",
    "null_data = list(df_market.isnull().sum())\n",
    "df_amount_null_data = pd.DataFrame(data = [columns, null_data])\n",
    "df_amount_null_data = df_amount_null_data.transpose()\n",
    "df_amount_null_data.columns = ['Column', 'Amount of null data']"
   ]
  },
  {
   "cell_type": "code",
   "execution_count": 6,
   "metadata": {},
   "outputs": [],
   "source": [
    "# colunas que estão completas\n",
    "complete_columns = list(df_amount_null_data.Column.loc[df_amount_null_data['Amount of null data'] == 0])\n",
    "\n",
    "# colunas que estão totamente incompletas\n",
    "null_columns = list(df_amount_null_data.Column.loc[df_amount_null_data['Amount of null data'] == df_market.shape[0]])\n",
    "\n",
    "# colunas que possuem mais de 50% dos dados incompletos\n",
    "half_null_columns = list(df_amount_null_data.Column.loc[df_amount_null_data['Amount of null data'] >= 0.5 * df_market.shape[0]])\n",
    "\n",
    "# colunas que possuem menos de 50% dos dados incompletos\n",
    "less_of_half_null_columns = list(df_amount_null_data.Column.loc[df_amount_null_data['Amount of null data'] < 0.5 * df_market.shape[0]])"
   ]
  },
  {
   "cell_type": "code",
   "execution_count": 7,
   "metadata": {
    "tags": []
   },
   "outputs": [
    {
     "output_type": "stream",
     "name": "stdout",
     "text": "Colunas com dados totalmente completos: 19\nColunas com dados totalmente incompletos: 5\nColunas com mais da metade dos dados incompletos: 131\nColunas com menos da metade dos dados incompletos: 51\n"
    }
   ],
   "source": [
    "print('Colunas com dados totalmente completos: {}'.format(len(complete_columns)))\n",
    "print('Colunas com dados totalmente incompletos: {}'.format(len(null_columns)))\n",
    "print('Colunas com mais da metade dos dados incompletos: {}'.format(len(half_null_columns)))\n",
    "print('Colunas com menos da metade dos dados incompletos: {}'.format(len(less_of_half_null_columns)))"
   ]
  },
  {
   "cell_type": "markdown",
   "metadata": {},
   "source": [
    "# Pré processamento de dados"
   ]
  },
  {
   "cell_type": "code",
   "execution_count": 8,
   "metadata": {},
   "outputs": [],
   "source": [
    "df = df_market.filter(items = less_of_half_null_columns)"
   ]
  },
  {
   "cell_type": "code",
   "execution_count": 9,
   "metadata": {
    "tags": []
   },
   "outputs": [],
   "source": [
    "# cria um dicionário com o setor mais frequente de cada ramo\n",
    "agrup = dict(df.groupby(['de_ramo'])['setor'].agg(pd.Series.mode))\n",
    "# completa os dados nulos com o termo mais frequente do ramo\n",
    "df.setor.loc[pd.isnull(df.setor)] = df.de_ramo.map(agrup)"
   ]
  },
  {
   "cell_type": "code",
   "execution_count": 10,
   "metadata": {
    "tags": []
   },
   "outputs": [],
   "source": [
    "# cria um dicionário com a divisão mais frequente de cada ramo\n",
    "agrup = df.groupby(['de_ramo'])['nm_divisao'].agg(pd.Series.mode)\n",
    "# completa os dados nulos com o termo mais frequente do ramo\n",
    "df.nm_divisao.loc[pd.isnull(df.nm_divisao)] = df.de_ramo.map(agrup)"
   ]
  },
  {
   "cell_type": "code",
   "execution_count": 11,
   "metadata": {},
   "outputs": [],
   "source": [
    "# remove a data na qual uma situação foi registrado na Receita Federal\n",
    "df.drop(['dt_situacao'], axis = 1, inplace = True)"
   ]
  },
  {
   "cell_type": "code",
   "execution_count": 12,
   "metadata": {},
   "outputs": [],
   "source": [
    "# cria um dicionário com o segmento mais frequente de cada ramo\n",
    "agrup = df.groupby(['de_ramo'])['nm_segmento'].agg(pd.Series.mode)\n",
    "# completa os dados nulos com o termo mais frequente do ramo\n",
    "df.nm_segmento.loc[pd.isnull(df.nm_segmento)] = df.de_ramo.map(agrup)"
   ]
  },
  {
   "cell_type": "code",
   "execution_count": 13,
   "metadata": {},
   "outputs": [],
   "source": [
    "# completa os dados nulos com o valor False, que representa não possuir estação de abastecimento próprio\n",
    "df.fl_spa.fillna(False, inplace = True)"
   ]
  },
  {
   "cell_type": "code",
   "execution_count": 14,
   "metadata": {},
   "outputs": [],
   "source": [
    "# completa os dados nulos com o valor False, que representa não possui certificação ANTT para transportação\n",
    "df.fl_antt.fillna(False, inplace = True)"
   ]
  },
  {
   "cell_type": "code",
   "execution_count": 15,
   "metadata": {},
   "outputs": [],
   "source": [
    "# completa os dados nulos com o valor zero, que representa que a empresa não possui veículos que pertencem ao grupo pesados ou leves\n",
    "df.vl_total_veiculos_pesados_grupo.fillna(0, inplace = True)\n",
    "df.vl_total_veiculos_leves_grupo.fillna(0, inplace = True)\n",
    "\n",
    "# completa os dados nulos com o valor da soma do total de veículos dos grupos leves e pesados\n",
    "aux = df.vl_total_veiculos_pesados_grupo + df.vl_total_veiculos_leves_grupo\n",
    "df.fl_veiculo = list(map(lambda x: True if x > 0 else False, aux))"
   ]
  },
  {
   "cell_type": "code",
   "execution_count": 16,
   "metadata": {},
   "outputs": [],
   "source": [
    "# exclui as colunas que não são interessantes para a análise\n",
    "df.drop(columns = ['fl_optante_simples','fl_optante_simei','sg_uf_matriz','de_saude_tributaria','de_saude_rescencia','nu_meses_rescencia','idade_media_socios','idade_maxima_socios','idade_minima_socios','de_faixa_faturamento_estimado_grupo','vl_faturamento_estimado_grupo_aux','fl_passivel_iss','qt_socios_st_regular','fl_simples_irregular','empsetorcensitariofaixarendapopulacao'], axis = 1, inplace = True)"
   ]
  },
  {
   "cell_type": "code",
   "execution_count": 17,
   "metadata": {},
   "outputs": [],
   "source": [
    "# completa os dados nulos com o valor zero, que representa que a empresa não possui sócios do tipo pessoa jurídico ou pessoa física.\n",
    "df.qt_socios_pj.fillna(0, inplace = True)\n",
    "df.qt_socios_pf.fillna(0, inplace = True)\n",
    "df.qt_socios.fillna(df.qt_socios_pj+df.qt_socios_pf, inplace = True)"
   ]
  },
  {
   "cell_type": "code",
   "execution_count": 18,
   "metadata": {},
   "outputs": [],
   "source": [
    "# cria um dicionário com a meso região mais frequente de cada estado\n",
    "agrup = df.groupby(['sg_uf'])['nm_meso_regiao'].agg(pd.Series.mode)\n",
    "# completa os dados nulos com o termo mais frequento do estado\n",
    "df.nm_meso_regiao.loc[pd.isnull(df.nm_meso_regiao)] = df.sg_uf.map(agrup)\n",
    "\n",
    "# cria um dicionário com a micro região mais frequente de cada estado\n",
    "agrup = df.groupby(['sg_uf'])['nm_micro_regiao'].agg(pd.Series.mode)\n",
    "# completa os dados nulos com o termo mais frequente do micro região\n",
    "df.nm_micro_regiao.loc[pd.isnull(df.nm_micro_regiao)] = df.sg_uf.map(agrup)"
   ]
  },
  {
   "cell_type": "code",
   "execution_count": 19,
   "metadata": {},
   "outputs": [],
   "source": [
    "# completa os dados nulos com a mediana do valor de faturamento estimado\n",
    "df.vl_faturamento_estimado_aux.fillna(df.vl_faturamento_estimado_aux.median(), inplace = True)\n",
    "df.de_faixa_faturamento_estimado.fillna(df.de_faixa_faturamento_estimado.mode().values[0], inplace = True)"
   ]
  },
  {
   "cell_type": "code",
   "execution_count": 20,
   "metadata": {},
   "outputs": [],
   "source": [
    "# cria um dicionário com o tipo de atividade mais frequente de cada faixa de faturamento estimado\n",
    "agrup = df.groupby(['de_faixa_faturamento_estimado'])['de_nivel_atividade'].agg(pd.Series.mode)\n",
    "# completa os dados nulos com o termo mais frequento do por faixa de faturamento\n",
    "df.de_nivel_atividade.loc[pd.isnull(df.de_nivel_atividade)] = df.de_faixa_faturamento_estimado.map(agrup)"
   ]
  },
  {
   "cell_type": "code",
   "execution_count": 64,
   "metadata": {},
   "outputs": [],
   "source": [
    "# cria um dataset com algumas colunas selecionadas para serem testadas o processo de clusterização\n",
    "df_cluster = df.filter(items = ['id','de_natureza_juridica','sg_uf','de_ramo','setor','idade_empresa_anos','nm_segmento','de_nivel_atividade','nm_meso_regiao','nm_micro_regiao','qt_socios','vl_faturamento_estimado_aux'])"
   ]
  },
  {
   "cell_type": "code",
   "execution_count": 65,
   "metadata": {},
   "outputs": [
    {
     "output_type": "execute_result",
     "data": {
      "text/plain": "                                                  id  \\\n0  a6984c3ae395090e3bee8ad63c3758b110de096d5d8195...   \n1  6178f41ade1365e44bc2c46654c2c8c0eaae27dcb476c4...   \n2  4a7e5069a397f12fdd7fd57111d6dc5d3ba558958efc02...   \n3  3348900fe63216a439d2e5238c79ddd46ede454df7b9d8...   \n4  1f9bcabc9d3173c1fe769899e4fac14b053037b953a1e4...   \n\n            de_natureza_juridica sg_uf  \\\n0  SOCIEDADE EMPRESARIA LIMITADA    RN   \n1          EMPRESARIO INDIVIDUAL    PI   \n2          EMPRESARIO INDIVIDUAL    AM   \n3          EMPRESARIO INDIVIDUAL    AM   \n4          EMPRESARIO INDIVIDUAL    RN   \n\n                                          de_ramo             setor  \\\n0                         INDUSTRIA DA CONSTRUCAO  CONSTRUÇÃO CIVIL   \n1              SERVICOS DE ALOJAMENTO/ALIMENTACAO           SERVIÇO   \n2               TRANSPORTE, ARMAZENAGEM E CORREIO           SERVIÇO   \n3                               SERVICOS DIVERSOS           SERVIÇO   \n4  SERVICOS PROFISSIONAIS, TECNICOS E CIENTIFICOS           SERVIÇO   \n\n   idade_empresa_anos                                      nm_segmento  \\\n0           14.457534                                       CONSTRUCAO   \n1            1.463014                         ALOJAMENTO E ALIMENTACAO   \n2            7.093151                 TRANSPORTE ARMAZENAGEM E CORREIO   \n3            6.512329                    OUTRAS ATIVIDADES DE SERVICOS   \n4            3.200000  ATIVIDADES PROFISSIONAIS CIENTIFICAS E TECNICAS   \n\n  de_nivel_atividade          nm_meso_regiao nm_micro_regiao  qt_socios  \\\n0               ALTA          LESTE POTIGUAR           NATAL        2.0   \n1              BAIXA  CENTRO NORTE PIAUIENSE        TERESINA        1.0   \n2              MEDIA       CENTRO AMAZONENSE          MANAUS        1.0   \n3              MEDIA       CENTRO AMAZONENSE          MANAUS        1.0   \n4               ALTA          LESTE POTIGUAR           NATAL        1.0   \n\n   vl_faturamento_estimado_aux  \n0                    3132172.8  \n1                     210000.0  \n2                      50000.0  \n3                     210000.0  \n4                     210000.0  ",
      "text/html": "<div>\n<style scoped>\n    .dataframe tbody tr th:only-of-type {\n        vertical-align: middle;\n    }\n\n    .dataframe tbody tr th {\n        vertical-align: top;\n    }\n\n    .dataframe thead th {\n        text-align: right;\n    }\n</style>\n<table border=\"1\" class=\"dataframe\">\n  <thead>\n    <tr style=\"text-align: right;\">\n      <th></th>\n      <th>id</th>\n      <th>de_natureza_juridica</th>\n      <th>sg_uf</th>\n      <th>de_ramo</th>\n      <th>setor</th>\n      <th>idade_empresa_anos</th>\n      <th>nm_segmento</th>\n      <th>de_nivel_atividade</th>\n      <th>nm_meso_regiao</th>\n      <th>nm_micro_regiao</th>\n      <th>qt_socios</th>\n      <th>vl_faturamento_estimado_aux</th>\n    </tr>\n  </thead>\n  <tbody>\n    <tr>\n      <th>0</th>\n      <td>a6984c3ae395090e3bee8ad63c3758b110de096d5d8195...</td>\n      <td>SOCIEDADE EMPRESARIA LIMITADA</td>\n      <td>RN</td>\n      <td>INDUSTRIA DA CONSTRUCAO</td>\n      <td>CONSTRUÇÃO CIVIL</td>\n      <td>14.457534</td>\n      <td>CONSTRUCAO</td>\n      <td>ALTA</td>\n      <td>LESTE POTIGUAR</td>\n      <td>NATAL</td>\n      <td>2.0</td>\n      <td>3132172.8</td>\n    </tr>\n    <tr>\n      <th>1</th>\n      <td>6178f41ade1365e44bc2c46654c2c8c0eaae27dcb476c4...</td>\n      <td>EMPRESARIO INDIVIDUAL</td>\n      <td>PI</td>\n      <td>SERVICOS DE ALOJAMENTO/ALIMENTACAO</td>\n      <td>SERVIÇO</td>\n      <td>1.463014</td>\n      <td>ALOJAMENTO E ALIMENTACAO</td>\n      <td>BAIXA</td>\n      <td>CENTRO NORTE PIAUIENSE</td>\n      <td>TERESINA</td>\n      <td>1.0</td>\n      <td>210000.0</td>\n    </tr>\n    <tr>\n      <th>2</th>\n      <td>4a7e5069a397f12fdd7fd57111d6dc5d3ba558958efc02...</td>\n      <td>EMPRESARIO INDIVIDUAL</td>\n      <td>AM</td>\n      <td>TRANSPORTE, ARMAZENAGEM E CORREIO</td>\n      <td>SERVIÇO</td>\n      <td>7.093151</td>\n      <td>TRANSPORTE ARMAZENAGEM E CORREIO</td>\n      <td>MEDIA</td>\n      <td>CENTRO AMAZONENSE</td>\n      <td>MANAUS</td>\n      <td>1.0</td>\n      <td>50000.0</td>\n    </tr>\n    <tr>\n      <th>3</th>\n      <td>3348900fe63216a439d2e5238c79ddd46ede454df7b9d8...</td>\n      <td>EMPRESARIO INDIVIDUAL</td>\n      <td>AM</td>\n      <td>SERVICOS DIVERSOS</td>\n      <td>SERVIÇO</td>\n      <td>6.512329</td>\n      <td>OUTRAS ATIVIDADES DE SERVICOS</td>\n      <td>MEDIA</td>\n      <td>CENTRO AMAZONENSE</td>\n      <td>MANAUS</td>\n      <td>1.0</td>\n      <td>210000.0</td>\n    </tr>\n    <tr>\n      <th>4</th>\n      <td>1f9bcabc9d3173c1fe769899e4fac14b053037b953a1e4...</td>\n      <td>EMPRESARIO INDIVIDUAL</td>\n      <td>RN</td>\n      <td>SERVICOS PROFISSIONAIS, TECNICOS E CIENTIFICOS</td>\n      <td>SERVIÇO</td>\n      <td>3.200000</td>\n      <td>ATIVIDADES PROFISSIONAIS CIENTIFICAS E TECNICAS</td>\n      <td>ALTA</td>\n      <td>LESTE POTIGUAR</td>\n      <td>NATAL</td>\n      <td>1.0</td>\n      <td>210000.0</td>\n    </tr>\n  </tbody>\n</table>\n</div>"
     },
     "metadata": {},
     "execution_count": 65
    }
   ],
   "source": [
    "df_cluster.head()"
   ]
  }
 ],
 "metadata": {
  "language_info": {
   "codemirror_mode": {
    "name": "ipython",
    "version": 3
   },
   "file_extension": ".py",
   "mimetype": "text/x-python",
   "name": "python",
   "nbconvert_exporter": "python",
   "pygments_lexer": "ipython3",
   "version": "3.7.6-final"
  },
  "orig_nbformat": 2,
  "kernelspec": {
   "name": "python3",
   "display_name": "Python 3"
  }
 },
 "nbformat": 4,
 "nbformat_minor": 2
}